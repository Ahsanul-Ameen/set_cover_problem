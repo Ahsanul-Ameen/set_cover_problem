{
 "cells": [
  {
   "cell_type": "markdown",
   "metadata": {
    "id": "Q_TJ5YE3OADq"
   },
   "source": []
  },
  {
   "cell_type": "markdown",
   "metadata": {
    "id": "xG_yBegYOLew"
   },
   "source": [
    "```\n",
    "import packages\n",
    "```"
   ]
  },
  {
   "cell_type": "code",
   "execution_count": 31,
   "metadata": {
    "colab": {
     "base_uri": "https://localhost:8080/"
    },
    "id": "wrk3plTAOMHk",
    "outputId": "9e0ed364-a324-45b7-abcc-398972eda67a"
   },
   "outputs": [
    {
     "name": "stdout",
     "output_type": "stream",
     "text": [
      "Requirement already satisfied: ortools in /home/sabit/.local/lib/python3.9/site-packages (9.2.9972)\n",
      "Requirement already satisfied: absl-py>=0.13 in /home/sabit/.local/lib/python3.9/site-packages (from ortools) (1.0.0)\n",
      "Requirement already satisfied: protobuf>=3.19.1 in /home/sabit/.local/lib/python3.9/site-packages (from ortools) (3.19.4)\n",
      "Requirement already satisfied: numpy>=1.13.3 in /home/sabit/.local/lib/python3.9/site-packages (from ortools) (1.22.1)\n",
      "Requirement already satisfied: six in /usr/lib/python3/dist-packages (from absl-py>=0.13->ortools) (1.16.0)\n"
     ]
    }
   ],
   "source": [
    "!pip install ortools"
   ]
  },
  {
   "cell_type": "markdown",
   "metadata": {},
   "source": [
    "```\n",
    "from ortools.linear_solver import pywraplp\n",
    "from ortools.init import pywrapinit\n",
    "```"
   ]
  },
  {
   "cell_type": "markdown",
   "metadata": {},
   "source": []
  },
  {
   "cell_type": "code",
   "execution_count": 32,
   "metadata": {},
   "outputs": [],
   "source": [
    "from ortools.linear_solver import pywraplp\n",
    "from ortools.init import pywrapinit"
   ]
  },
  {
   "cell_type": "markdown",
   "metadata": {},
   "source": [
    "```\n",
    "Read input as the form\n",
    "\n",
    "5 4\n",
    "1 2 3 4 5\n",
    "1.0 3.0 5.0 2.0\n",
    "3  1 2 3\n",
    "2  2 4\n",
    "2  3 4\n",
    "2  4 5\n",
    "```"
   ]
  },
  {
   "cell_type": "code",
   "execution_count": 33,
   "metadata": {},
   "outputs": [
    {
     "name": "stdout",
     "output_type": "stream",
     "text": [
      "13   5\n",
      "[1, 2, 3, 4, 5, 6, 7, 8, 9, 10, 11, 12, 13]\n",
      "[1.0, 1.0, 1.0, 1.0, 1.0]\n",
      "[[1, 2], [2, 3, 4, 5], [6, 7, 8, 9, 10, 11, 12, 13], [1, 3, 5, 7, 9, 11, 13], [2, 4, 6, 8, 10, 12, 13]]\n"
     ]
    }
   ],
   "source": [
    "with open('./sample_io.txt') as f:\n",
    "    n, m = [int(x) for x in next(f).split()]\n",
    "    universe = [int(x) for x in next(f).split()]\n",
    "    costs = [float(x) for x in next(f).split()]\n",
    "    family = [[int(x) for x in line.split()] for line in f]\n",
    "    \n",
    "    family = [x for x in family if x]\n",
    "    \n",
    "    for i in range(m):\n",
    "        family[i].pop(0)\n",
    "    \n",
    "print(n, \" \", m)\n",
    "print(universe)\n",
    "print(costs)\n",
    "print(family)\n"
   ]
  },
  {
   "cell_type": "markdown",
   "metadata": {},
   "source": [
    "```\n",
    "Solve the relaxed version of LP\n",
    "```\n",
    "<img src=\".images/lp.png\">"
   ]
  },
  {
   "cell_type": "code",
   "execution_count": 34,
   "metadata": {},
   "outputs": [],
   "source": [
    "def solve_lp(n, m, universe, costs, family):\n",
    "    # Create the linear solver with the GLOP backend.\n",
    "    solver = pywraplp.Solver.CreateSolver('GLOP')\n",
    "\n",
    "    # Create the variables xi.\n",
    "    var_names = [\"x_\" + str(i) for i in range(m)] # ['x_0', 'x_1', 'x_2', 'x_3']\n",
    "    vars = [solver.NumVar(0, 1, x) for x in var_names]\n",
    "    print('Number of variables =', solver.NumVariables())\n",
    "\n",
    "    # add constraints\n",
    "    # solver.Add(vars[0] >= 1)\n",
    "    for v in universe:\n",
    "        xs = []\n",
    "        for i, S in enumerate(family):\n",
    "            if v in S:\n",
    "                xs.append(vars[i])\n",
    "        solver.Add(sum(xs) >= 1)\n",
    "\n",
    "    print('Number of constraints =', solver.NumConstraints())\n",
    "\n",
    "    # Create the objective function, 3 * x + y.\n",
    "    objective = solver.Objective()\n",
    "    for i, x in enumerate(vars):\n",
    "        objective.SetCoefficient(x, costs[i])\n",
    "    objective.SetMinimization()\n",
    "\n",
    "    solver.Solve()\n",
    "    print('Solution:')\n",
    "    print('Objective value =', objective.Value())\n",
    "\n",
    "    for i, x in enumerate(vars):\n",
    "        print(\"\\t\", var_names[i], \" : \", x.solution_value())\n",
    "\n",
    "    return [x.solution_value() for x in vars]\n",
    "    "
   ]
  },
  {
   "cell_type": "markdown",
   "metadata": {},
   "source": [
    "```\n",
    "all x in x_star has x in [0, 1]\n",
    "```"
   ]
  },
  {
   "cell_type": "code",
   "execution_count": 35,
   "metadata": {},
   "outputs": [
    {
     "name": "stdout",
     "output_type": "stream",
     "text": [
      "Number of variables = 5\n",
      "Number of constraints = 13\n",
      "Solution:\n",
      "Objective value = 2.0\n",
      "\t x_0  :  0.0\n",
      "\t x_1  :  0.0\n",
      "\t x_2  :  0.0\n",
      "\t x_3  :  1.0\n",
      "\t x_4  :  1.0\n",
      "optimal fractional solution x_star =  [0.0, 0.0, 0.0, 1.0, 1.0]\n"
     ]
    }
   ],
   "source": [
    "x_star = solve_lp(n, m, universe, costs, family)\n",
    "print(\"optimal fractional solution x_star = \", x_star)"
   ]
  },
  {
   "cell_type": "markdown",
   "metadata": {},
   "source": [
    "```\n",
    "Unlike the case of vertex cover, we cannot round the x∗i to the nearest integer, \n",
    "because if an element u belongs to 100 sets, it could be that x∗i = 1/100 for each of those sets, \n",
    "and we would be rounding all those numbers to zero, leaving the element u not covered\n",
    "```"
   ]
  },
  {
   "cell_type": "markdown",
   "metadata": {},
   "source": [
    "```\n",
    "Implement the RandomPick algorithm\n",
    "```\n",
    "<img src=\".images/rp.png\">\n",
    "\n",
    "`note that our m is denoted as n here`"
   ]
  },
  {
   "cell_type": "code",
   "execution_count": 36,
   "metadata": {},
   "outputs": [],
   "source": [
    "# import random choice\n",
    "import random\n",
    "import numpy as np\n",
    "\n",
    "\n",
    "def RandomPick(m, costs, x):\n",
    "    flags = ['0'] * m\n",
    "    cost = 0.0\n",
    "\n",
    "    #draw = random.choices(population=[i for i in range(m)], k=m, weights=x)\n",
    "    # print(x)\n",
    "    draw = np.random.choice([i for i in range(m)], m, replace=True, p=x)\n",
    "    # print(draw)\n",
    "    for i in draw:\n",
    "        flags[i] = '1'\n",
    "\n",
    "    for i, f in enumerate(flags):\n",
    "        if f == '1':\n",
    "            cost += costs[i]\n",
    "\n",
    "\n",
    "    return ''.join([str(elem) for elem in flags]), cost \n",
    "    "
   ]
  },
  {
   "cell_type": "markdown",
   "metadata": {},
   "source": [
    "```\n",
    "pass the probabilities\n",
    "```"
   ]
  },
  {
   "cell_type": "code",
   "execution_count": 37,
   "metadata": {},
   "outputs": [
    {
     "name": "stdout",
     "output_type": "stream",
     "text": [
      "Cost :  2.0\n",
      "flags :  00011\n"
     ]
    }
   ],
   "source": [
    "flags, cost =  RandomPick(m, costs, x=[float(x)/sum(x_star) for x in x_star])\n",
    "print(\"Cost : \" , cost)\n",
    "print(\"flags : \", flags)"
   ]
  },
  {
   "cell_type": "markdown",
   "metadata": {},
   "source": [
    "```\n",
    "Implement RandomizedRound\n",
    "```\n",
    "<img src=\".images/rr.png\">"
   ]
  },
  {
   "cell_type": "code",
   "execution_count": 38,
   "metadata": {},
   "outputs": [],
   "source": [
    "def RandomizedRound(m, universe, family, costs, x):\n",
    "    flags = ['0'] * m\n",
    "    cost = 0.0\n",
    "\n",
    "    uncovered = universe.copy()\n",
    "\n",
    "    while len(uncovered) != 0:\n",
    "        # draw = random.choices(population=[i for i in range(m)], k=m, weights=x)\n",
    "        draw = np.random.choice([i for i in range(m)], m, replace=True, p=x)\n",
    "        # print(draw)\n",
    "        # we've picked them\n",
    "        for i in draw:\n",
    "            flags[i] = '1'\n",
    "            # ith set of family would cover some items in universe\n",
    "            for u in family[i]:\n",
    "                if u in uncovered: \n",
    "                    uncovered.remove(u)\n",
    "\n",
    "    for i, f in enumerate(flags):\n",
    "        if f == '1':\n",
    "            cost += costs[i]\n",
    "\n",
    "\n",
    "    return ''.join([str(elem) for elem in flags]), cost "
   ]
  },
  {
   "cell_type": "code",
   "execution_count": 39,
   "metadata": {},
   "outputs": [
    {
     "name": "stdout",
     "output_type": "stream",
     "text": [
      "Cost :  2.0\n",
      "flags :  00011\n"
     ]
    }
   ],
   "source": [
    "flags, cost =  RandomizedRound(m, universe, family, costs, x=[float(x)/sum(x_star) for x in x_star])\n",
    "print(\"Cost : \" , cost)\n",
    "print(\"flags : \", flags)"
   ]
  },
  {
   "cell_type": "markdown",
   "metadata": {},
   "source": [
    "```\n",
    "Combine all\n",
    "```"
   ]
  },
  {
   "cell_type": "code",
   "execution_count": 40,
   "metadata": {},
   "outputs": [],
   "source": [
    "def execute(file_name):\n",
    "    print(\"-------- Execution on \", file_name, \"----------\")\n",
    "\n",
    "    with open(file_name) as f:\n",
    "        n, m = [int(x) for x in next(f).split()]\n",
    "        universe = [int(x) for x in next(f).split()]\n",
    "        costs = [float(x) for x in next(f).split()]\n",
    "        family = [[int(x) for x in line.split()] for line in f]\n",
    "        \n",
    "        family = [x for x in family if x]\n",
    "        \n",
    "        for i in range(m):\n",
    "            family[i].pop(0)\n",
    "    \n",
    "    # print(n, \" \", m)\n",
    "    # print(universe)\n",
    "    # print(costs)\n",
    "    # print(family)\n",
    "\n",
    "    x_star = solve_lp(n, m, universe, costs, family)\n",
    "    print(\"optimal fractional solution x_star = \", x_star)\n",
    "\n",
    "    print(\"\\nRandomPick\")\n",
    "    flags, cost =  RandomPick(m, costs, x=[float(x)/sum(x_star) for x in x_star])\n",
    "    print(\"Cost : \" , cost)\n",
    "    print(\"chosen sets : \", flags)\n",
    "\n",
    "    print(\"\\nRandomizedRound\")\n",
    "    flags, cost =  RandomizedRound(m, universe, family, costs, x=[float(x)/sum(x_star) for x in x_star])\n",
    "    print(\"Cost : \" , cost)\n",
    "    print(\"chosen sets : \", flags, \"\\n\\n\")"
   ]
  },
  {
   "cell_type": "code",
   "execution_count": 41,
   "metadata": {},
   "outputs": [
    {
     "name": "stdout",
     "output_type": "stream",
     "text": [
      "-------- Execution on  ../test/1.txt ----------\n",
      "Number of variables = 4\n",
      "Number of constraints = 5\n",
      "Solution:\n",
      "Objective value = 3.0\n",
      "\t x_0  :  1.0\n",
      "\t x_1  :  0.0\n",
      "\t x_2  :  0.0\n",
      "\t x_3  :  1.0\n",
      "optimal fractional solution x_star =  [1.0, 0.0, 0.0, 1.0]\n",
      "\n",
      "RandomPick\n",
      "Cost :  3.0\n",
      "chosen sets :  1001\n",
      "\n",
      "RandomizedRound\n",
      "Cost :  3.0\n",
      "chosen sets :  1001 \n",
      "\n",
      "\n"
     ]
    }
   ],
   "source": [
    "execute(\"../test/1.txt\")"
   ]
  },
  {
   "cell_type": "code",
   "execution_count": 42,
   "metadata": {},
   "outputs": [
    {
     "name": "stdout",
     "output_type": "stream",
     "text": [
      "-------- Execution on  ../test/2.txt ----------\n",
      "Number of variables = 5\n",
      "Number of constraints = 13\n",
      "Solution:\n",
      "Objective value = 2.0\n",
      "\t x_0  :  0.0\n",
      "\t x_1  :  0.0\n",
      "\t x_2  :  0.0\n",
      "\t x_3  :  1.0\n",
      "\t x_4  :  1.0\n",
      "optimal fractional solution x_star =  [0.0, 0.0, 0.0, 1.0, 1.0]\n",
      "\n",
      "RandomPick\n",
      "Cost :  2.0\n",
      "chosen sets :  00011\n",
      "\n",
      "RandomizedRound\n",
      "Cost :  2.0\n",
      "chosen sets :  00011 \n",
      "\n",
      "\n"
     ]
    }
   ],
   "source": [
    "execute(\"../test/2.txt\")"
   ]
  },
  {
   "cell_type": "code",
   "execution_count": 43,
   "metadata": {},
   "outputs": [
    {
     "name": "stdout",
     "output_type": "stream",
     "text": [
      "-------- Execution on  ../test/3.txt ----------\n",
      "Number of variables = 3\n",
      "Number of constraints = 5\n",
      "Solution:\n",
      "Objective value = 13.0\n",
      "\t x_0  :  0.0\n",
      "\t x_1  :  1.0\n",
      "\t x_2  :  1.0\n",
      "optimal fractional solution x_star =  [0.0, 1.0, 1.0]\n",
      "\n",
      "RandomPick\n",
      "Cost :  13.0\n",
      "chosen sets :  011\n",
      "\n",
      "RandomizedRound\n",
      "Cost :  13.0\n",
      "chosen sets :  011 \n",
      "\n",
      "\n"
     ]
    }
   ],
   "source": [
    "execute(\"../test/3.txt\")"
   ]
  },
  {
   "cell_type": "code",
   "execution_count": 44,
   "metadata": {},
   "outputs": [
    {
     "name": "stdout",
     "output_type": "stream",
     "text": [
      "-------- Execution on  ../test/4.txt ----------\n",
      "Number of variables = 11\n",
      "Number of constraints = 10\n",
      "Solution:\n",
      "Objective value = -5.5\n",
      "\t x_0  :  0.0\n",
      "\t x_1  :  1.0\n",
      "\t x_2  :  0.0\n",
      "\t x_3  :  1.0\n",
      "\t x_4  :  0.0\n",
      "\t x_5  :  0.0\n",
      "\t x_6  :  0.0\n",
      "\t x_7  :  1.0\n",
      "\t x_8  :  0.0\n",
      "\t x_9  :  0.0\n",
      "\t x_10  :  1.0\n",
      "optimal fractional solution x_star =  [0.0, 1.0, 0.0, 1.0, 0.0, 0.0, 0.0, 1.0, 0.0, 0.0, 1.0]\n",
      "\n",
      "RandomPick\n",
      "Cost :  -5.5\n",
      "chosen sets :  01010001001\n",
      "\n",
      "RandomizedRound\n",
      "Cost :  -5.5\n",
      "chosen sets :  01010001001 \n",
      "\n",
      "\n"
     ]
    }
   ],
   "source": [
    "execute(\"../test/4.txt\")"
   ]
  }
 ],
 "metadata": {
  "colab": {
   "name": "set_cover_LP.ipynb",
   "provenance": []
  },
  "kernelspec": {
   "display_name": "Python 3 (ipykernel)",
   "language": "python",
   "name": "python3"
  },
  "language_info": {
   "codemirror_mode": {
    "name": "ipython",
    "version": 3
   },
   "file_extension": ".py",
   "mimetype": "text/x-python",
   "name": "python",
   "nbconvert_exporter": "python",
   "pygments_lexer": "ipython3",
   "version": "3.9.7"
  }
 },
 "nbformat": 4,
 "nbformat_minor": 1
}
